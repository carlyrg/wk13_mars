{
 "cells": [
  {
   "cell_type": "code",
   "execution_count": null,
   "metadata": {},
   "outputs": [],
   "source": [
    "consumer_key='O0lIqXHCu0YRQwN0gmHMsXQHy'\n",
    "consumer_secret='Sf8cawo0rB8flAUI2oYHon0kLoaWnBnH1S6my3r5AIcMOzi7hn'\n",
    "app_key='1008873804733374464-Eqc2CpyeFEpl7nV1EgTlH4lPPhKvj7'\n",
    "app_secret='8MNfd21s8l7oC9Wvi2jIHRTJUgMZm4afLgbQ1yXCMK9AM'"
   ]
  }
 ],
 "metadata": {
  "kernelspec": {
   "display_name": "Python 3",
   "language": "python",
   "name": "python3"
  },
  "language_info": {
   "codemirror_mode": {
    "name": "ipython",
    "version": 3
   },
   "file_extension": ".py",
   "mimetype": "text/x-python",
   "name": "python",
   "nbconvert_exporter": "python",
   "pygments_lexer": "ipython3",
   "version": "3.6.4"
  }
 },
 "nbformat": 4,
 "nbformat_minor": 2
}
