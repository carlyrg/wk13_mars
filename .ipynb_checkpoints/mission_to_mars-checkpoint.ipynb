{
 "cells": [
  {
   "cell_type": "code",
   "execution_count": 3,
   "metadata": {},
   "outputs": [],
   "source": [
    "import requests\n",
    "import pandas as pd\n",
    "from bs4 import BeautifulSoup\n",
    "import re\n",
    "from splinter import Browser\n",
    "import sys\n",
    "from pymongo import MongoClient\n",
    "client = MongoClient('localhost', 27017)\n",
    "import tweepy\n",
    "from datetime import datetime\n",
    "import time\n",
    "\n",
    "from selenium import webdriver\n",
    "from selenium.webdriver.common.keys import Keys\n",
    "from selenium.webdriver.common.by import By\n",
    "from selenium.webdriver.support.ui import WebDriverWait\n",
    "from selenium.webdriver.support import expected_conditions as EC\n",
    "from selenium.common.exceptions import TimeoutException\n",
    "from selenium.webdriver.chrome.options import Options"
   ]
  },
  {
   "cell_type": "markdown",
   "metadata": {},
   "source": [
    "### Mars news"
   ]
  },
  {
   "cell_type": "code",
   "execution_count": 4,
   "metadata": {},
   "outputs": [],
   "source": [
    "#NASA news site, pull latest article text and date\n",
    "url = \"https://mars.nasa.gov/api/v1/news_items/?order=publish_date+desc\"\n",
    "response = requests.get(url).json()\n",
    "body = response.get('items')[0]\n",
    "\n",
    "\n"
   ]
  },
  {
   "cell_type": "code",
   "execution_count": 5,
   "metadata": {},
   "outputs": [],
   "source": [
    "# db = client.mars\n",
    "# coll = db.news\n",
    "# coll.insert_one(body)\n",
    "# client"
   ]
  },
  {
   "cell_type": "code",
   "execution_count": 6,
   "metadata": {},
   "outputs": [],
   "source": [
    "# db.coll.find({})"
   ]
  },
  {
   "cell_type": "code",
   "execution_count": 7,
   "metadata": {},
   "outputs": [
    {
     "name": "stdout",
     "output_type": "stream",
     "text": [
      "<p>A new series of videos introduces some of the people leading NASA's <a href=\"https://mars.nasa.gov/insight/\">InSight</a>, the agency's next mission to Mars.</p>\r\n",
      "\r\n",
      "<p>\"Behind the Spacecraft\" profiles the men and women working on the first mission ever dedicated to studying Mars' deep interior. The InSight spacecraft is on its way to a Nov. 26 landing on the Red Planet. All the videos are available today and will be spotlighted on social media each week over the next three months.</p>\r\n",
      "\r\n",
      "<p><figure class='column-width embedded_video video_player_container'>\n",
      "<iframe width=\"560\" height=\"315\" src=\"https://www.youtube.com/embed/videoseries?list=PLgHJYtbt8tY7kTM2r8fv_0uoFUl57tuFw&rel=0\" frameborder=\"0\" allow=\"autoplay; encrypted-media\" allowfullscreen></iframe>\n",
      "</figure>The InSight profiles include:</p>\r\n",
      "\r\n",
      "<ul>\r\n",
      "\t<li><a href=\"https://www.youtube.com/watch?v=Ubrbfpz_2pI&list=PLgHJYtbt8tY7kTM2r8fv_0uoFUl57tuFw&index=1\">Troy Hudson</a>, a scientist turned engineer with space art tattoos</li>\r\n",
      "\t<li><a href=\"https://www.youtube.com/watch?v=ZkEUywAiexM&index=2&list=PLgHJYtbt8tY7kTM2r8fv_0uoFUl57tuFw\">Marleen Sundgaard</a>, the daughter of migrant workers who was inspired to look to the stars</li>\r\n",
      "\t<li><a href=\"https://www.youtube.com/watch?v=iokM456WvPE&list=PLgHJYtbt8tY7kTM2r8fv_0uoFUl57tuFw&index=3\">Ravi Prakash</a>, a spacecraft engineer who applied his skills to combat international poverty</li>\r\n",
      "</ul>\r\n",
      "\r\n",
      "<p>After landing on Mars, InSight will use a seismometer to detect quakes inside the planet, and place a probe up to 16 feet (5 meters) under the surface to measure the heat escaping from its depths. InSight stands for Interior Exploration Using Seismic Investigations, Geodesy and Heat Transport.</p>\r\n",
      "\r\n",
      "<p>InSight is an international mission that includes participation from several European agencies and institutions, including France's National Center for Space Studies (CNES) and the German Aerospace Center (DLR). Important figures from these collaborators are also profiled in the \"Behind the Spacecraft\" series.</p>\r\n",
      "\r\n",
      "<p>Two videos also focus on Mars Cube One, or MarCO, the first pair of CubeSats to attempt the journey to Mars. These \"Meet MarCO\" videos share the personalities of young engineers working to demonstrate how miniaturized spacecraft technology can be used on future missions. MarCO is a unique, standalone mission of its own, unrelated to the InSight mission's success.</p>\r\n",
      "\r\n",
      "<p>The entire video series was produced by NASA 360 at the National Institute of Aerospace in collaboration with the agency&rsquo;s Langley Research Center in Hampton, Virginia.</p>\r\n",
      "\r\n",
      "<p>To watch all the videos, click <a href=\"https://www.youtube.com/watch?v=Ubrbfpz_2pI&list=PLgHJYtbt8tY7kTM2r8fv_0uoFUl57tuFw&index=1\">here</a>.</p>\r\n",
      "\r\n",
      "<p>Follow InSight at:<br />\r\n",
      "<a href=\"https://twitter.com/nasainsight\">https://twitter.com/nasainsight</a><br />\r\n",
      "<a href=\"https://facebook.com/nasainsight\">https://facebook.com/nasainsight</a><br />\r\n",
      "<a href=\"https://instagram.com/nasajpl/\">https://instagram.com/nasajpl/</a><br />\r\n",
      "<a href=\"https://youtube.com/nasajpl\">https://youtube.com/nasajpl</a></p>\r\n",
      "\r\n",
      "<p>Andrew Good<br />\r\n",
      "Jet Propulsion Laboratory, Pasadena, Calif.<br />\r\n",
      "818-393-2433<br />\r\n",
      "<a href=\"mailto:andrew.c.good@jpl.nasa.gov\">andrew.c.good@jpl.nasa.gov</a></p>\r\n",
      "\n"
     ]
    }
   ],
   "source": [
    "articles = response.get('items')\n",
    "body_txt = articles[0]['body']\n",
    "title = articles[0]['title']\n",
    "print(body_txt)"
   ]
  },
  {
   "cell_type": "code",
   "execution_count": 8,
   "metadata": {},
   "outputs": [
    {
     "ename": "NameError",
     "evalue": "name 'coll' is not defined",
     "output_type": "error",
     "traceback": [
      "\u001b[1;31m---------------------------------------------------------------------------\u001b[0m",
      "\u001b[1;31mNameError\u001b[0m                                 Traceback (most recent call last)",
      "\u001b[1;32m<ipython-input-8-be258a3cb96e>\u001b[0m in \u001b[0;36m<module>\u001b[1;34m()\u001b[0m\n\u001b[1;32m----> 1\u001b[1;33m \u001b[1;32mfor\u001b[0m \u001b[0mrow\u001b[0m \u001b[1;32min\u001b[0m \u001b[0mcoll\u001b[0m\u001b[1;33m.\u001b[0m\u001b[0mfind\u001b[0m\u001b[1;33m(\u001b[0m\u001b[1;33m)\u001b[0m\u001b[1;33m:\u001b[0m\u001b[1;33m\u001b[0m\u001b[0m\n\u001b[0m\u001b[0;32m      2\u001b[0m     \u001b[0mprint\u001b[0m\u001b[1;33m(\u001b[0m\u001b[0mrow\u001b[0m\u001b[1;33m)\u001b[0m\u001b[1;33m\u001b[0m\u001b[0m\n",
      "\u001b[1;31mNameError\u001b[0m: name 'coll' is not defined"
     ]
    }
   ],
   "source": [
    "for row in coll.find():\n",
    "    print(row)"
   ]
  },
  {
   "cell_type": "code",
   "execution_count": 9,
   "metadata": {},
   "outputs": [
    {
     "data": {
      "text/plain": [
       "'\"Behind the Spacecraft\" profiles the men and women working on the first mission ever dedicated to studying Mars\\' deep interior. The InSight spacecraft is on its way to a Nov. 26 landing on the Red Planet. All the videos are available today and will be spotlighted on social media each week over the next three months.'"
      ]
     },
     "execution_count": 9,
     "metadata": {},
     "output_type": "execute_result"
    }
   ],
   "source": [
    "#pull latest article\n",
    "soup_b = BeautifulSoup(body_txt, \"html.parser\")\n",
    "latest_news = soup_b.find_all(\"p\")[1]\n",
    "latest_news = latest_news.get_text()\n",
    "latest_news"
   ]
  },
  {
   "cell_type": "code",
   "execution_count": 10,
   "metadata": {},
   "outputs": [
    {
     "data": {
      "text/plain": [
       "{'body': '<p>A new series of videos introduces some of the people leading NASA\\'s <a href=\"https://mars.nasa.gov/insight/\">InSight</a>, the agency\\'s next mission to Mars.</p>\\r\\n\\r\\n<p>\"Behind the Spacecraft\" profiles the men and women working on the first mission ever dedicated to studying Mars\\' deep interior. The InSight spacecraft is on its way to a Nov. 26 landing on the Red Planet. All the videos are available today and will be spotlighted on social media each week over the next three months.</p>\\r\\n\\r\\n<p><figure class=\\'column-width embedded_video video_player_container\\'>\\n<iframe width=\"560\" height=\"315\" src=\"https://www.youtube.com/embed/videoseries?list=PLgHJYtbt8tY7kTM2r8fv_0uoFUl57tuFw&rel=0\" frameborder=\"0\" allow=\"autoplay; encrypted-media\" allowfullscreen></iframe>\\n</figure>The InSight profiles include:</p>\\r\\n\\r\\n<ul>\\r\\n\\t<li><a href=\"https://www.youtube.com/watch?v=Ubrbfpz_2pI&list=PLgHJYtbt8tY7kTM2r8fv_0uoFUl57tuFw&index=1\">Troy Hudson</a>, a scientist turned engineer with space art tattoos</li>\\r\\n\\t<li><a href=\"https://www.youtube.com/watch?v=ZkEUywAiexM&index=2&list=PLgHJYtbt8tY7kTM2r8fv_0uoFUl57tuFw\">Marleen Sundgaard</a>, the daughter of migrant workers who was inspired to look to the stars</li>\\r\\n\\t<li><a href=\"https://www.youtube.com/watch?v=iokM456WvPE&list=PLgHJYtbt8tY7kTM2r8fv_0uoFUl57tuFw&index=3\">Ravi Prakash</a>, a spacecraft engineer who applied his skills to combat international poverty</li>\\r\\n</ul>\\r\\n\\r\\n<p>After landing on Mars, InSight will use a seismometer to detect quakes inside the planet, and place a probe up to 16 feet (5 meters) under the surface to measure the heat escaping from its depths. InSight stands for Interior Exploration Using Seismic Investigations, Geodesy and Heat Transport.</p>\\r\\n\\r\\n<p>InSight is an international mission that includes participation from several European agencies and institutions, including France\\'s National Center for Space Studies (CNES) and the German Aerospace Center (DLR). Important figures from these collaborators are also profiled in the \"Behind the Spacecraft\" series.</p>\\r\\n\\r\\n<p>Two videos also focus on Mars Cube One, or MarCO, the first pair of CubeSats to attempt the journey to Mars. These \"Meet MarCO\" videos share the personalities of young engineers working to demonstrate how miniaturized spacecraft technology can be used on future missions. MarCO is a unique, standalone mission of its own, unrelated to the InSight mission\\'s success.</p>\\r\\n\\r\\n<p>The entire video series was produced by NASA 360 at the National Institute of Aerospace in collaboration with the agency&rsquo;s Langley Research Center in Hampton, Virginia.</p>\\r\\n\\r\\n<p>To watch all the videos, click <a href=\"https://www.youtube.com/watch?v=Ubrbfpz_2pI&list=PLgHJYtbt8tY7kTM2r8fv_0uoFUl57tuFw&index=1\">here</a>.</p>\\r\\n\\r\\n<p>Follow InSight at:<br />\\r\\n<a href=\"https://twitter.com/nasainsight\">https://twitter.com/nasainsight</a><br />\\r\\n<a href=\"https://facebook.com/nasainsight\">https://facebook.com/nasainsight</a><br />\\r\\n<a href=\"https://instagram.com/nasajpl/\">https://instagram.com/nasajpl/</a><br />\\r\\n<a href=\"https://youtube.com/nasajpl\">https://youtube.com/nasajpl</a></p>\\r\\n\\r\\n<p>Andrew Good<br />\\r\\nJet Propulsion Laboratory, Pasadena, Calif.<br />\\r\\n818-393-2433<br />\\r\\n<a href=\"mailto:andrew.c.good@jpl.nasa.gov\">andrew.c.good@jpl.nasa.gov</a></p>\\r\\n',\n",
       " 'byline': '',\n",
       " 'date': 'August  2, 2018',\n",
       " 'description': 'A series of NASA videos highlight scientists and engineers leading the next mission to Mars.',\n",
       " 'id': 8359,\n",
       " 'item_name': '',\n",
       " 'main_image': '/system/news_items/main_images/8359_people20180802-16.jpg',\n",
       " 'main_image_alt': \"L-R: Troy Hudson, Ravi Prakash and Marleen Sundgaard as they appear in a new video series profiling the scientists and engineers behind NASA's InSight spacecraft. Credit: NASA 360\",\n",
       " 'meta_author': '',\n",
       " 'meta_keywords': '',\n",
       " 'missions': [[183, 'insight', 'InSight']],\n",
       " 'news_type': [[165, 'feature', 'Feature Stories']],\n",
       " 'status': 1,\n",
       " 'target': '_self',\n",
       " 'thumb': '/system/news_items/list_view_images/8359_people20180802-th.jpg',\n",
       " 'title': \"Meet the People Behind NASA's InSight Mars Lander\",\n",
       " 'updated_at': '2018-08-02T17:47:50.196Z',\n",
       " 'url': '/news/8359/meet-the-people-behind-nasas-insight-mars-lander/'}"
      ]
     },
     "execution_count": 10,
     "metadata": {},
     "output_type": "execute_result"
    }
   ],
   "source": [
    "articles[0]"
   ]
  },
  {
   "cell_type": "code",
   "execution_count": 11,
   "metadata": {},
   "outputs": [],
   "source": [
    "#Jeff method\n",
    "url= \"https://mars.nasa.gov/api/v1/news_items/?page=0&per_page=40&order=publish_date+desc%2Ccreated_at+desc&search=&category=19%2C165%2C184%2C204&blank_scope=Latest\"\n",
    "news = requests.get(url)\n",
    "news = news.json()\n",
    "most_recent = news.get('items')[0]\n",
    "most_recent_b = most_recent['body']\n"
   ]
  },
  {
   "cell_type": "markdown",
   "metadata": {},
   "source": [
    "### mars image"
   ]
  },
  {
   "cell_type": "code",
   "execution_count": 12,
   "metadata": {},
   "outputs": [
    {
     "ename": "TypeError",
     "evalue": "findall() missing 1 required positional argument: 'string'",
     "output_type": "error",
     "traceback": [
      "\u001b[1;31m---------------------------------------------------------------------------\u001b[0m",
      "\u001b[1;31mTypeError\u001b[0m                                 Traceback (most recent call last)",
      "\u001b[1;32m<ipython-input-12-ebb6d07c1bac>\u001b[0m in \u001b[0;36m<module>\u001b[1;34m()\u001b[0m\n\u001b[1;32m----> 1\u001b[1;33m \u001b[0mre\u001b[0m\u001b[1;33m.\u001b[0m\u001b[0mfindall\u001b[0m\u001b[1;33m(\u001b[0m\u001b[1;34mr'([+-]?\\d+())'\u001b[0m\u001b[1;33m)\u001b[0m\u001b[1;33m\u001b[0m\u001b[0m\n\u001b[0m",
      "\u001b[1;31mTypeError\u001b[0m: findall() missing 1 required positional argument: 'string'"
     ]
    }
   ],
   "source": [
    "re.findall(r'([+-]?\\d+())')"
   ]
  },
  {
   "cell_type": "code",
   "execution_count": 13,
   "metadata": {},
   "outputs": [],
   "source": [
    "img_url = \"https://www.jpl.nasa.gov/spaceimages/?search=&category=Mars\"\n",
    "# img_path = \"\"\"//*[@id=\"page\"]/section[1]/div/div/article\"\"\"\n",
    "\n",
    "# browser = Browser('chrome')\n",
    "# browser.visit(img_url)\n",
    "# img_html = browser.html #convert page to html for BS\n",
    "# img_soup = BeautifulSoup(img_html, 'html.parser')\n",
    "# print(img_soup)\n",
    "# browser.quit()\n",
    "   "
   ]
  },
  {
   "cell_type": "code",
   "execution_count": 14,
   "metadata": {},
   "outputs": [],
   "source": [
    "#page source with Selenium\n",
    "# driver= webdriver.Chrome()\n",
    "# driver.start_client()\n",
    "# driver.get(img_url)\n",
    "# _html = driver.page_source\n",
    "# # driver.close()"
   ]
  },
  {
   "cell_type": "code",
   "execution_count": 15,
   "metadata": {},
   "outputs": [
    {
     "data": {
      "text/plain": [
       "'https://www.jpl.nasa.gov/spaceimages/?search=&category=Mars/spaceimages/images/mediumsize/PIA16227_ip.jpg'"
      ]
     },
     "execution_count": 15,
     "metadata": {},
     "output_type": "execute_result"
    }
   ],
   "source": [
    "#soup to find image url\n",
    "img_url = \"https://www.jpl.nasa.gov/spaceimages/?search=&category=Mars\"\n",
    "image_pg = requests.get(img_url)\n",
    "soup = BeautifulSoup(image_pg.text, \"html.parser\")\n",
    "img_link = soup.find(\"a\", {\"class\":\"button fancybox\"}).attrs.get('data-fancybox-href')\n",
    "feature_image = img_url + img_link\n",
    "feature_image"
   ]
  },
  {
   "cell_type": "code",
   "execution_count": 16,
   "metadata": {},
   "outputs": [],
   "source": [
    "# driver= webdriver.Chrome()\n",
    "# driver.start_client()\n",
    "# driver.get(img_url)\n",
    "\n",
    "# # results = soup.find_all(\"article\", {\"class\":\"carousel_item\"})\n",
    "# results = driver.find_elements_by_xpath('//*[@id=\"full_image\"]')\n",
    "# results\n"
   ]
  },
  {
   "cell_type": "markdown",
   "metadata": {},
   "source": [
    "### mars weather twitter"
   ]
  },
  {
   "cell_type": "code",
   "execution_count": 17,
   "metadata": {},
   "outputs": [],
   "source": [
    "#mars weather twitter account\n",
    "# weather_url = \"https://twitter.com/marswxreport?lang=en\"\n",
    "# weather_data = requests.get(weather_url)\n",
    "# soup = BeautifulSoup(weather_data.text, \"html.parser\")\n",
    "# soup"
   ]
  },
  {
   "cell_type": "code",
   "execution_count": 18,
   "metadata": {},
   "outputs": [],
   "source": [
    "from config import *\n",
    "\n",
    "auth = tweepy.OAuthHandler(consumer_key, consumer_secret)\n",
    "auth.set_access_token(app_key, app_secret)\n",
    "api = tweepy.API(auth)"
   ]
  },
  {
   "cell_type": "code",
   "execution_count": 19,
   "metadata": {},
   "outputs": [
    {
     "data": {
      "text/plain": [
       "{'contributors': None,\n",
       " 'coordinates': None,\n",
       " 'created_at': 'Sun Aug 12 08:59:51 +0000 2018',\n",
       " 'entities': {'hashtags': [{'indices': [60, 71], 'text': 'SolarProbe'}],\n",
       "  'symbols': [],\n",
       "  'urls': [{'display_url': 'youtu.be/hDhIane1Rso',\n",
       "    'expanded_url': 'https://youtu.be/hDhIane1Rso',\n",
       "    'indices': [104, 127],\n",
       "    'url': 'https://t.co/ulKl6gldeR'}],\n",
       "  'user_mentions': [{'id': 16207462,\n",
       "    'id_str': '16207462',\n",
       "    'indices': [3, 12],\n",
       "    'name': 'Tony Rice',\n",
       "    'screen_name': 'rtphokie'}]},\n",
       " 'favorite_count': 0,\n",
       " 'favorited': False,\n",
       " 'geo': None,\n",
       " 'id': 1028566724138991617,\n",
       " 'id_str': '1028566724138991617',\n",
       " 'in_reply_to_screen_name': None,\n",
       " 'in_reply_to_status_id': None,\n",
       " 'in_reply_to_status_id_str': None,\n",
       " 'in_reply_to_user_id': None,\n",
       " 'in_reply_to_user_id_str': None,\n",
       " 'is_quote_status': False,\n",
       " 'lang': 'en',\n",
       " 'place': None,\n",
       " 'possibly_sensitive': False,\n",
       " 'retweet_count': 7,\n",
       " 'retweeted': False,\n",
       " 'retweeted_status': {'contributors': None,\n",
       "  'coordinates': None,\n",
       "  'created_at': 'Sun Aug 12 08:58:04 +0000 2018',\n",
       "  'entities': {'hashtags': [{'indices': [46, 57], 'text': 'SolarProbe'}],\n",
       "   'symbols': [],\n",
       "   'urls': [{'display_url': 'youtu.be/hDhIane1Rso',\n",
       "     'expanded_url': 'https://youtu.be/hDhIane1Rso',\n",
       "     'indices': [90, 113],\n",
       "     'url': 'https://t.co/ulKl6gldeR'}],\n",
       "   'user_mentions': []},\n",
       "  'favorite_count': 8,\n",
       "  'favorited': False,\n",
       "  'geo': None,\n",
       "  'id': 1028566276829073408,\n",
       "  'id_str': '1028566276829073408',\n",
       "  'in_reply_to_screen_name': None,\n",
       "  'in_reply_to_status_id': None,\n",
       "  'in_reply_to_status_id_str': None,\n",
       "  'in_reply_to_user_id': None,\n",
       "  'in_reply_to_user_id_str': None,\n",
       "  'is_quote_status': False,\n",
       "  'lang': 'en',\n",
       "  'place': None,\n",
       "  'possibly_sensitive': False,\n",
       "  'retweet_count': 7,\n",
       "  'retweeted': False,\n",
       "  'source': '<a href=\"https://about.twitter.com/products/tweetdeck\" rel=\"nofollow\">TweetDeck</a>',\n",
       "  'text': 'A view of this morning’s launch of the Parker #SolarProbe launch from about 3 miles away \\nhttps://t.co/ulKl6gldeR',\n",
       "  'truncated': False,\n",
       "  'user': {'contributors_enabled': False,\n",
       "   'created_at': 'Tue Sep 09 19:05:54 +0000 2008',\n",
       "   'default_profile': False,\n",
       "   'default_profile_image': False,\n",
       "   'description': 'InfoSec data scientist by day, amateur astronomer, @NASAJPL Solar System Ambassador, and contributor to @WRAL & @WeatherBrains on space by night',\n",
       "   'entities': {'description': {'urls': []},\n",
       "    'url': {'urls': [{'display_url': 'about.me/tonyrice',\n",
       "       'expanded_url': 'http://about.me/tonyrice',\n",
       "       'indices': [0, 23],\n",
       "       'url': 'https://t.co/Gb6N0wjfNT'}]}},\n",
       "   'favourites_count': 3451,\n",
       "   'follow_request_sent': False,\n",
       "   'followers_count': 3430,\n",
       "   'following': False,\n",
       "   'friends_count': 1053,\n",
       "   'geo_enabled': True,\n",
       "   'has_extended_profile': True,\n",
       "   'id': 16207462,\n",
       "   'id_str': '16207462',\n",
       "   'is_translation_enabled': False,\n",
       "   'is_translator': False,\n",
       "   'lang': 'en',\n",
       "   'listed_count': 207,\n",
       "   'location': 'Raleigh, NC, USA',\n",
       "   'name': 'Tony Rice',\n",
       "   'notifications': False,\n",
       "   'profile_background_color': '022330',\n",
       "   'profile_background_image_url': 'http://abs.twimg.com/images/themes/theme15/bg.png',\n",
       "   'profile_background_image_url_https': 'https://abs.twimg.com/images/themes/theme15/bg.png',\n",
       "   'profile_background_tile': True,\n",
       "   'profile_banner_url': 'https://pbs.twimg.com/profile_banners/16207462/1503701639',\n",
       "   'profile_image_url': 'http://pbs.twimg.com/profile_images/804445910667296768/dr2IIYda_normal.jpg',\n",
       "   'profile_image_url_https': 'https://pbs.twimg.com/profile_images/804445910667296768/dr2IIYda_normal.jpg',\n",
       "   'profile_link_color': '0084B4',\n",
       "   'profile_sidebar_border_color': 'FFFFFF',\n",
       "   'profile_sidebar_fill_color': 'C0DFEC',\n",
       "   'profile_text_color': '333333',\n",
       "   'profile_use_background_image': True,\n",
       "   'protected': False,\n",
       "   'screen_name': 'rtphokie',\n",
       "   'statuses_count': 13759,\n",
       "   'time_zone': None,\n",
       "   'translator_type': 'none',\n",
       "   'url': 'https://t.co/Gb6N0wjfNT',\n",
       "   'utc_offset': None,\n",
       "   'verified': True}},\n",
       " 'source': '<a href=\"https://about.twitter.com/products/tweetdeck\" rel=\"nofollow\">TweetDeck</a>',\n",
       " 'text': 'RT @rtphokie: A view of this morning’s launch of the Parker #SolarProbe launch from about 3 miles away \\nhttps://t.co/ulKl6gldeR',\n",
       " 'truncated': False,\n",
       " 'user': {'contributors_enabled': False,\n",
       "  'created_at': 'Tue Aug 28 12:48:50 +0000 2012',\n",
       "  'default_profile': False,\n",
       "  'default_profile_image': False,\n",
       "  'description': 'Updates as avail from the REMS weather instrument aboard @MarsCuriosity.  Data credit: Centro deAstrobiologia, FMI, JPL/NASA, Not an official acct.',\n",
       "  'entities': {'description': {'urls': []},\n",
       "   'url': {'urls': [{'display_url': 'mars.nasa.gov/msl/mission/in…',\n",
       "      'expanded_url': 'http://mars.nasa.gov/msl/mission/instruments/environsensors/rems/',\n",
       "      'indices': [0, 22],\n",
       "      'url': 'http://t.co/OcX0oySes3'}]}},\n",
       "  'favourites_count': 217,\n",
       "  'follow_request_sent': False,\n",
       "  'followers_count': 38742,\n",
       "  'following': False,\n",
       "  'friends_count': 48,\n",
       "  'geo_enabled': True,\n",
       "  'has_extended_profile': False,\n",
       "  'id': 786939553,\n",
       "  'id_str': '786939553',\n",
       "  'is_translation_enabled': False,\n",
       "  'is_translator': False,\n",
       "  'lang': 'en',\n",
       "  'listed_count': 305,\n",
       "  'location': 'Gale Crater, Mars',\n",
       "  'name': 'Mars Weather',\n",
       "  'notifications': False,\n",
       "  'profile_background_color': 'C0DEED',\n",
       "  'profile_background_image_url': 'http://abs.twimg.com/images/themes/theme1/bg.png',\n",
       "  'profile_background_image_url_https': 'https://abs.twimg.com/images/themes/theme1/bg.png',\n",
       "  'profile_background_tile': False,\n",
       "  'profile_banner_url': 'https://pbs.twimg.com/profile_banners/786939553/1403835009',\n",
       "  'profile_image_url': 'http://pbs.twimg.com/profile_images/2552209293/220px-Mars_atmosphere_normal.jpg',\n",
       "  'profile_image_url_https': 'https://pbs.twimg.com/profile_images/2552209293/220px-Mars_atmosphere_normal.jpg',\n",
       "  'profile_link_color': '0084B4',\n",
       "  'profile_sidebar_border_color': 'FFFFFF',\n",
       "  'profile_sidebar_fill_color': 'DDEEF6',\n",
       "  'profile_text_color': '333333',\n",
       "  'profile_use_background_image': True,\n",
       "  'protected': False,\n",
       "  'screen_name': 'MarsWxReport',\n",
       "  'statuses_count': 1530,\n",
       "  'time_zone': None,\n",
       "  'translator_type': 'none',\n",
       "  'url': 'http://t.co/OcX0oySes3',\n",
       "  'utc_offset': None,\n",
       "  'verified': False}}"
      ]
     },
     "execution_count": 19,
     "metadata": {},
     "output_type": "execute_result"
    }
   ],
   "source": [
    "#pull latest 10 tweets, convert to json, read 1st tweet\n",
    "mars_tweets = []\n",
    "\n",
    "for status in tweepy.Cursor(api.user_timeline, id=\"@MarsWxReport\").items(10):\n",
    "    mars_tweets.append(status)\n",
    "\n",
    "mars_weather = mars_tweets[0]._json\n",
    "mars_weather"
   ]
  },
  {
   "cell_type": "code",
   "execution_count": 20,
   "metadata": {},
   "outputs": [
    {
     "name": "stdout",
     "output_type": "stream",
     "text": [
      "On 2018-08-12 08:59:51 the weather on mars was RT @rtphokie: A view of this morning’s launch of the Parker #SolarProbe launch from about 3 miles away \n",
      "https://t.co/ulKl6gldeR\n"
     ]
    }
   ],
   "source": [
    "#pull text/status update of the latest tweet\n",
    "tweet_text = mars_weather['text']\n",
    "\n",
    "#date/time of tweet\n",
    "date = mars_weather['created_at']\n",
    "tweet_date = time.strftime('%Y-%m-%d %H:%M:%S', time.strptime(date,'%a %b %d %H:%M:%S +0000 %Y'))\n",
    "\n",
    "print(f\"On {tweet_date} the weather on mars was {tweet_text}\")"
   ]
  },
  {
   "cell_type": "markdown",
   "metadata": {},
   "source": []
  },
  {
   "cell_type": "markdown",
   "metadata": {},
   "source": [
    "### Mars Facts"
   ]
  },
  {
   "cell_type": "code",
   "execution_count": 21,
   "metadata": {},
   "outputs": [
    {
     "data": {
      "text/html": [
       "<div>\n",
       "<style>\n",
       "    .dataframe thead tr:only-child th {\n",
       "        text-align: right;\n",
       "    }\n",
       "\n",
       "    .dataframe thead th {\n",
       "        text-align: left;\n",
       "    }\n",
       "\n",
       "    .dataframe tbody tr th {\n",
       "        vertical-align: top;\n",
       "    }\n",
       "</style>\n",
       "<table border=\"1\" class=\"dataframe\">\n",
       "  <thead>\n",
       "    <tr style=\"text-align: right;\">\n",
       "      <th></th>\n",
       "      <th>0</th>\n",
       "      <th>1</th>\n",
       "    </tr>\n",
       "  </thead>\n",
       "  <tbody>\n",
       "    <tr>\n",
       "      <th>0</th>\n",
       "      <td>Equatorial Diameter:</td>\n",
       "      <td>6,792 km</td>\n",
       "    </tr>\n",
       "    <tr>\n",
       "      <th>1</th>\n",
       "      <td>Polar Diameter:</td>\n",
       "      <td>6,752 km</td>\n",
       "    </tr>\n",
       "    <tr>\n",
       "      <th>2</th>\n",
       "      <td>Mass:</td>\n",
       "      <td>6.42 x 10^23 kg (10.7% Earth)</td>\n",
       "    </tr>\n",
       "    <tr>\n",
       "      <th>3</th>\n",
       "      <td>Moons:</td>\n",
       "      <td>2 (Phobos &amp; Deimos)</td>\n",
       "    </tr>\n",
       "    <tr>\n",
       "      <th>4</th>\n",
       "      <td>Orbit Distance:</td>\n",
       "      <td>227,943,824 km (1.52 AU)</td>\n",
       "    </tr>\n",
       "    <tr>\n",
       "      <th>5</th>\n",
       "      <td>Orbit Period:</td>\n",
       "      <td>687 days (1.9 years)</td>\n",
       "    </tr>\n",
       "    <tr>\n",
       "      <th>6</th>\n",
       "      <td>Surface Temperature:</td>\n",
       "      <td>-153 to 20 °C</td>\n",
       "    </tr>\n",
       "    <tr>\n",
       "      <th>7</th>\n",
       "      <td>First Record:</td>\n",
       "      <td>2nd millennium BC</td>\n",
       "    </tr>\n",
       "    <tr>\n",
       "      <th>8</th>\n",
       "      <td>Recorded By:</td>\n",
       "      <td>Egyptian astronomers</td>\n",
       "    </tr>\n",
       "  </tbody>\n",
       "</table>\n",
       "</div>"
      ],
      "text/plain": [
       "                      0                              1\n",
       "0  Equatorial Diameter:                       6,792 km\n",
       "1       Polar Diameter:                       6,752 km\n",
       "2                 Mass:  6.42 x 10^23 kg (10.7% Earth)\n",
       "3                Moons:            2 (Phobos & Deimos)\n",
       "4       Orbit Distance:       227,943,824 km (1.52 AU)\n",
       "5         Orbit Period:           687 days (1.9 years)\n",
       "6  Surface Temperature:                  -153 to 20 °C\n",
       "7         First Record:              2nd millennium BC\n",
       "8          Recorded By:           Egyptian astronomers"
      ]
     },
     "execution_count": 21,
     "metadata": {},
     "output_type": "execute_result"
    }
   ],
   "source": [
    "mars_fact_url = \"https://space-facts.com/mars/\"\n",
    "\n",
    "#read html table through pandas\n",
    "mars_facts = pd.read_html(mars_fact_url)\n",
    "mars_facts[0]"
   ]
  },
  {
   "cell_type": "code",
   "execution_count": 22,
   "metadata": {},
   "outputs": [
    {
     "data": {
      "text/html": [
       "<div>\n",
       "<style>\n",
       "    .dataframe thead tr:only-child th {\n",
       "        text-align: right;\n",
       "    }\n",
       "\n",
       "    .dataframe thead th {\n",
       "        text-align: left;\n",
       "    }\n",
       "\n",
       "    .dataframe tbody tr th {\n",
       "        vertical-align: top;\n",
       "    }\n",
       "</style>\n",
       "<table border=\"1\" class=\"dataframe\">\n",
       "  <thead>\n",
       "    <tr style=\"text-align: right;\">\n",
       "      <th></th>\n",
       "      <th>description</th>\n",
       "      <th>value</th>\n",
       "    </tr>\n",
       "  </thead>\n",
       "  <tbody>\n",
       "    <tr>\n",
       "      <th>0</th>\n",
       "      <td>Equatorial Diameter:</td>\n",
       "      <td>6,792 km</td>\n",
       "    </tr>\n",
       "    <tr>\n",
       "      <th>1</th>\n",
       "      <td>Polar Diameter:</td>\n",
       "      <td>6,752 km</td>\n",
       "    </tr>\n",
       "    <tr>\n",
       "      <th>2</th>\n",
       "      <td>Mass:</td>\n",
       "      <td>6.42 x 10^23 kg (10.7% Earth)</td>\n",
       "    </tr>\n",
       "    <tr>\n",
       "      <th>3</th>\n",
       "      <td>Moons:</td>\n",
       "      <td>2 (Phobos &amp; Deimos)</td>\n",
       "    </tr>\n",
       "    <tr>\n",
       "      <th>4</th>\n",
       "      <td>Orbit Distance:</td>\n",
       "      <td>227,943,824 km (1.52 AU)</td>\n",
       "    </tr>\n",
       "    <tr>\n",
       "      <th>5</th>\n",
       "      <td>Orbit Period:</td>\n",
       "      <td>687 days (1.9 years)</td>\n",
       "    </tr>\n",
       "    <tr>\n",
       "      <th>6</th>\n",
       "      <td>Surface Temperature:</td>\n",
       "      <td>-153 to 20 °C</td>\n",
       "    </tr>\n",
       "    <tr>\n",
       "      <th>7</th>\n",
       "      <td>First Record:</td>\n",
       "      <td>2nd millennium BC</td>\n",
       "    </tr>\n",
       "    <tr>\n",
       "      <th>8</th>\n",
       "      <td>Recorded By:</td>\n",
       "      <td>Egyptian astronomers</td>\n",
       "    </tr>\n",
       "  </tbody>\n",
       "</table>\n",
       "</div>"
      ],
      "text/plain": [
       "            description                          value\n",
       "0  Equatorial Diameter:                       6,792 km\n",
       "1       Polar Diameter:                       6,752 km\n",
       "2                 Mass:  6.42 x 10^23 kg (10.7% Earth)\n",
       "3                Moons:            2 (Phobos & Deimos)\n",
       "4       Orbit Distance:       227,943,824 km (1.52 AU)\n",
       "5         Orbit Period:           687 days (1.9 years)\n",
       "6  Surface Temperature:                  -153 to 20 °C\n",
       "7         First Record:              2nd millennium BC\n",
       "8          Recorded By:           Egyptian astronomers"
      ]
     },
     "execution_count": 22,
     "metadata": {},
     "output_type": "execute_result"
    }
   ],
   "source": [
    "#rename columns\n",
    "mars_facts_df=pd.DataFrame(mars_facts[0])\n",
    "mars_facts_df.columns=[\"description\", \"value\"]\n",
    "mars_facts_df"
   ]
  },
  {
   "cell_type": "code",
   "execution_count": 23,
   "metadata": {},
   "outputs": [],
   "source": [
    "#convert table to HTML string for web\n",
    "import numpy as np\n",
    "mars_facts_df.to_html('mars_table.html')\n"
   ]
  },
  {
   "cell_type": "markdown",
   "metadata": {},
   "source": [
    "### mars hemisphere images"
   ]
  },
  {
   "cell_type": "code",
   "execution_count": 62,
   "metadata": {},
   "outputs": [],
   "source": [
    "#pull high res images from astrology site\n",
    "hemisphere_url = \"https://astrogeology.usgs.gov/search/results?q=hemisphere+enhanced&k1=target&v1=Mars\"\n",
    "base_hems_url= \"https://astrogeology.usgs.gov\"\n",
    "hems = requests.get(hemisphere_url)\n",
    "hems_soup = BeautifulSoup(hems.text, \"html.parser\")\n",
    "\n",
    "hemispheres = hems_soup.find_all(\"a\", {\"class\": \"product-item\"})\n",
    "\n",
    "#empty list to hold image name/url\n",
    "mars_hemispheres=[]\n",
    "\n",
    "for hemi in hemispheres:\n",
    "    img_title = hemi.find(\"h3\").get_text().replace(\"Enhanced\", \"\")#remove enhanced text from image title\n",
    "        #remove enhanced text from image title\n",
    "        # create full image url\n",
    "    img_link = base_hems_url + hemi.attrs.get('href') \n",
    "        # access the downloads page for full high res image\n",
    "    high_res_soup = BeautifulSoup(requests.get(img_link).text, \"html.parser\")\n",
    "    download = high_res_soup.find(\"div\", {\"class\":\"downloads\"})\n",
    "    img_url = download.find('a')['href']\n",
    "    mars_hemispheres.append({\"title\": img_title, \"img_url\": img_url})\n",
    "    "
   ]
  },
  {
   "cell_type": "code",
   "execution_count": 63,
   "metadata": {},
   "outputs": [
    {
     "data": {
      "text/plain": [
       "[{'img_url': 'http://astropedia.astrogeology.usgs.gov/download/Mars/Viking/cerberus_enhanced.tif/full.jpg',\n",
       "  'title': 'Cerberus Hemisphere '},\n",
       " {'img_url': 'http://astropedia.astrogeology.usgs.gov/download/Mars/Viking/schiaparelli_enhanced.tif/full.jpg',\n",
       "  'title': 'Schiaparelli Hemisphere '},\n",
       " {'img_url': 'http://astropedia.astrogeology.usgs.gov/download/Mars/Viking/syrtis_major_enhanced.tif/full.jpg',\n",
       "  'title': 'Syrtis Major Hemisphere '},\n",
       " {'img_url': 'http://astropedia.astrogeology.usgs.gov/download/Mars/Viking/valles_marineris_enhanced.tif/full.jpg',\n",
       "  'title': 'Valles Marineris Hemisphere '}]"
      ]
     },
     "execution_count": 63,
     "metadata": {},
     "output_type": "execute_result"
    }
   ],
   "source": [
    "mars_hemispheres"
   ]
  },
  {
   "cell_type": "markdown",
   "metadata": {},
   "source": [
    "## DELETE ALL BELOW"
   ]
  },
  {
   "cell_type": "code",
   "execution_count": 46,
   "metadata": {},
   "outputs": [
    {
     "data": {
      "text/plain": [
       "[<a class=\"itemLink product-item\" href=\"/search/map/Mars/Viking/cerberus_enhanced\"><img alt=\"Cerberus Hemisphere Enhanced thumbnail\" class=\"thumb\" src=\"/cache/images/dfaf3849e74bf973b59eb50dab52b583_cerberus_enhanced.tif_thumb.png\"/><div class=\"description\"><h3>Cerberus Hemisphere Enhanced</h3></div></a>,\n",
       " <a class=\"itemLink product-item\" href=\"/search/map/Mars/Viking/schiaparelli_enhanced\"><img alt=\"Schiaparelli Hemisphere Enhanced thumbnail\" class=\"thumb\" src=\"/cache/images/7677c0a006b83871b5a2f66985ab5857_schiaparelli_enhanced.tif_thumb.png\"/><div class=\"description\"><h3>Schiaparelli Hemisphere Enhanced</h3></div></a>,\n",
       " <a class=\"itemLink product-item\" href=\"/search/map/Mars/Viking/syrtis_major_enhanced\"><img alt=\"Syrtis Major Hemisphere Enhanced thumbnail\" class=\"thumb\" src=\"/cache/images/aae41197e40d6d4f3ea557f8cfe51d15_syrtis_major_enhanced.tif_thumb.png\"/><div class=\"description\"><h3>Syrtis Major Hemisphere Enhanced</h3></div></a>,\n",
       " <a class=\"itemLink product-item\" href=\"/search/map/Mars/Viking/valles_marineris_enhanced\"><img alt=\"Valles Marineris Hemisphere Enhanced thumbnail\" class=\"thumb\" src=\"/cache/images/04085d99ec3713883a9a57f42be9c725_valles_marineris_enhanced.tif_thumb.png\"/><div class=\"description\"><h3>Valles Marineris Hemisphere Enhanced</h3></div></a>]"
      ]
     },
     "execution_count": 46,
     "metadata": {},
     "output_type": "execute_result"
    }
   ],
   "source": [
    "#hemisphere image links\n",
    "links = hems_soup.find_all(\"a\", {\"class\": \"itemLink\"})\n",
    "links"
   ]
  },
  {
   "cell_type": "code",
   "execution_count": 48,
   "metadata": {},
   "outputs": [
    {
     "data": {
      "text/plain": [
       "['https://astrogeology.usgs.gov/search/map/Mars/Viking/cerberus_enhanced',\n",
       " 'https://astrogeology.usgs.gov/search/map/Mars/Viking/schiaparelli_enhanced',\n",
       " 'https://astrogeology.usgs.gov/search/map/Mars/Viking/syrtis_major_enhanced',\n",
       " 'https://astrogeology.usgs.gov/search/map/Mars/Viking/valles_marineris_enhanced']"
      ]
     },
     "execution_count": 48,
     "metadata": {},
     "output_type": "execute_result"
    }
   ],
   "source": [
    "# extract href for images\n",
    "base_hems_url= \"https://astrogeology.usgs.gov\"\n",
    "\n",
    "    \n",
    "links[0].attrs.get('href')\n",
    "\n",
    "links_visit = [\"https://astrogeology.usgs.gov\" + x.attrs.get('href') for x in links]\n",
    "links_visit\n"
   ]
  },
  {
   "cell_type": "code",
   "execution_count": 49,
   "metadata": {},
   "outputs": [
    {
     "name": "stdout",
     "output_type": "stream",
     "text": [
      "https://astrogeology.usgs.gov/search/map/Mars/Viking/cerberus_enhanced\n",
      "https://astrogeology.usgs.gov/search/map/Mars/Viking/schiaparelli_enhanced\n",
      "https://astrogeology.usgs.gov/search/map/Mars/Viking/syrtis_major_enhanced\n",
      "https://astrogeology.usgs.gov/search/map/Mars/Viking/valles_marineris_enhanced\n"
     ]
    }
   ],
   "source": [
    "for x in links:\n",
    "    print(base_hems_url + x.attrs.get('href'))\n",
    "    "
   ]
  },
  {
   "cell_type": "markdown",
   "metadata": {},
   "source": [
    "#### High res images"
   ]
  },
  {
   "cell_type": "code",
   "execution_count": 50,
   "metadata": {},
   "outputs": [
    {
     "data": {
      "text/plain": [
       "'http://astropedia.astrogeology.usgs.gov/download/Mars/Viking/cerberus_enhanced.tif'"
      ]
     },
     "execution_count": 50,
     "metadata": {},
     "output_type": "execute_result"
    }
   ],
   "source": [
    "full_url = \"https://astrogeology.usgs.gov/search/map/Mars/Viking/cerberus_enhanced\" #change this to loop through all\n",
    "\n",
    "high_res_soup = BeautifulSoup(requests.get(full_url).text, \"html.parser\")\n",
    "\n",
    "hem_hr = [x.attrs.get('href') for x in high_res_soup.find_all('a') if \".tif\" in x.attrs.get('href')]\n",
    "hem_hr[1]\n"
   ]
  },
  {
   "cell_type": "markdown",
   "metadata": {},
   "source": [
    "#### image title"
   ]
  },
  {
   "cell_type": "code",
   "execution_count": 51,
   "metadata": {},
   "outputs": [
    {
     "data": {
      "text/plain": [
       "['Cerberus Hemisphere Enhanced',\n",
       " 'Schiaparelli Hemisphere Enhanced',\n",
       " 'Syrtis Major Hemisphere Enhanced',\n",
       " 'Valles Marineris Hemisphere Enhanced']"
      ]
     },
     "execution_count": 51,
     "metadata": {},
     "output_type": "execute_result"
    }
   ],
   "source": [
    "# for x in links:\n",
    "#     title = high_res_soup.find('h2', {\"class\":\"title\"})\n",
    "#     print(title.get_text())\n",
    "    \n",
    "img_title = hems_soup.find_all(\"h3\")\n",
    "\n",
    "img_titles = []\n",
    "for image in img_title:\n",
    "    img_titles.append(image.get_text())\n",
    "img_titles"
   ]
  },
  {
   "cell_type": "code",
   "execution_count": 52,
   "metadata": {},
   "outputs": [
    {
     "data": {
      "text/plain": [
       "[<a class=\"itemLink product-item\" href=\"/search/map/Mars/Viking/cerberus_enhanced\"><img alt=\"Cerberus Hemisphere Enhanced thumbnail\" class=\"thumb\" src=\"/cache/images/dfaf3849e74bf973b59eb50dab52b583_cerberus_enhanced.tif_thumb.png\"/><div class=\"description\"><h3>Cerberus Hemisphere Enhanced</h3></div></a>,\n",
       " <a class=\"itemLink product-item\" href=\"/search/map/Mars/Viking/schiaparelli_enhanced\"><img alt=\"Schiaparelli Hemisphere Enhanced thumbnail\" class=\"thumb\" src=\"/cache/images/7677c0a006b83871b5a2f66985ab5857_schiaparelli_enhanced.tif_thumb.png\"/><div class=\"description\"><h3>Schiaparelli Hemisphere Enhanced</h3></div></a>,\n",
       " <a class=\"itemLink product-item\" href=\"/search/map/Mars/Viking/syrtis_major_enhanced\"><img alt=\"Syrtis Major Hemisphere Enhanced thumbnail\" class=\"thumb\" src=\"/cache/images/aae41197e40d6d4f3ea557f8cfe51d15_syrtis_major_enhanced.tif_thumb.png\"/><div class=\"description\"><h3>Syrtis Major Hemisphere Enhanced</h3></div></a>,\n",
       " <a class=\"itemLink product-item\" href=\"/search/map/Mars/Viking/valles_marineris_enhanced\"><img alt=\"Valles Marineris Hemisphere Enhanced thumbnail\" class=\"thumb\" src=\"/cache/images/04085d99ec3713883a9a57f42be9c725_valles_marineris_enhanced.tif_thumb.png\"/><div class=\"description\"><h3>Valles Marineris Hemisphere Enhanced</h3></div></a>]"
      ]
     },
     "execution_count": 52,
     "metadata": {},
     "output_type": "execute_result"
    }
   ],
   "source": [
    "links"
   ]
  },
  {
   "cell_type": "markdown",
   "metadata": {},
   "source": [
    "#### dictionary"
   ]
  },
  {
   "cell_type": "code",
   "execution_count": 524,
   "metadata": {},
   "outputs": [
    {
     "data": {
      "text/plain": [
       "{'Cerberus Hemisphere Enhanced': 'https://astrogeology.usgs.gov/search/map/Mars/Viking/cerberus_enhanced',\n",
       " 'Schiaparelli Hemisphere Enhanced': 'https://astrogeology.usgs.gov/search/map/Mars/Viking/schiaparelli_enhanced',\n",
       " 'Syrtis Major Hemisphere Enhanced': 'https://astrogeology.usgs.gov/search/map/Mars/Viking/syrtis_major_enhanced',\n",
       " 'Valles Marineris Hemisphere Enhanced': 'https://astrogeology.usgs.gov/search/map/Mars/Viking/valles_marineris_enhanced'}"
      ]
     },
     "execution_count": 524,
     "metadata": {},
     "output_type": "execute_result"
    }
   ],
   "source": [
    "#create dict of title & url\n",
    "dict(zip(img_titles,links_visit))"
   ]
  },
  {
   "cell_type": "code",
   "execution_count": 523,
   "metadata": {},
   "outputs": [
    {
     "name": "stdout",
     "output_type": "stream",
     "text": [
      "https://astrogeology.usgs.gov/search/map/Mars/Viking/cerberus_enhanced\n",
      "https://astrogeology.usgs.gov/search/map/Mars/Viking/schiaparelli_enhanced\n",
      "https://astrogeology.usgs.gov/search/map/Mars/Viking/syrtis_major_enhanced\n",
      "https://astrogeology.usgs.gov/search/map/Mars/Viking/valles_marineris_enhanced\n"
     ]
    }
   ],
   "source": []
  },
  {
   "cell_type": "code",
   "execution_count": null,
   "metadata": {},
   "outputs": [],
   "source": []
  },
  {
   "cell_type": "code",
   "execution_count": 501,
   "metadata": {},
   "outputs": [
    {
     "data": {
      "text/plain": [
       "['Cerberus Hemisphere Enhanced',\n",
       " 'Schiaparelli Hemisphere Enhanced',\n",
       " 'Syrtis Major Hemisphere Enhanced',\n",
       " 'Valles Marineris Hemisphere Enhanced']"
      ]
     },
     "execution_count": 501,
     "metadata": {},
     "output_type": "execute_result"
    }
   ],
   "source": []
  }
 ],
 "metadata": {
  "kernelspec": {
   "display_name": "Python 3",
   "language": "python",
   "name": "python3"
  },
  "language_info": {
   "codemirror_mode": {
    "name": "ipython",
    "version": 3
   },
   "file_extension": ".py",
   "mimetype": "text/x-python",
   "name": "python",
   "nbconvert_exporter": "python",
   "pygments_lexer": "ipython3",
   "version": "3.6.4"
  }
 },
 "nbformat": 4,
 "nbformat_minor": 2
}
