{
 "cells": [
  {
   "cell_type": "code",
   "execution_count": 40,
   "metadata": {},
   "outputs": [],
   "source": [
    "import requests\n",
    "import pandas as pd\n",
    "from bs4 import BeautifulSoup\n",
    "import re\n",
    "from splinter import Browser\n",
    "import sys\n",
    "from pymongo import MongoClient\n",
    "client = MongoClient('localhost', 27017)\n",
    "import tweepy\n",
    "from datetime import datetime\n",
    "import time\n",
    "\n",
    "from selenium import webdriver\n",
    "from selenium.webdriver.common.keys import Keys\n",
    "from selenium.webdriver.common.by import By\n",
    "from selenium.webdriver.support.ui import WebDriverWait\n",
    "from selenium.webdriver.support import expected_conditions as EC\n",
    "from selenium.common.exceptions import TimeoutException\n",
    "from selenium.webdriver.chrome.options import Options"
   ]
  },
  {
   "cell_type": "markdown",
   "metadata": {},
   "source": [
    "### Mars news"
   ]
  },
  {
   "cell_type": "code",
   "execution_count": 2,
   "metadata": {},
   "outputs": [],
   "source": [
    "#NASA news site, pull latest article text and date\n",
    "url = \"https://mars.nasa.gov/api/v1/news_items/?order=publish_date+desc\"\n",
    "response = requests.get(url).json()\n",
    "body = response.get('items')[0]\n",
    "\n",
    "\n"
   ]
  },
  {
   "cell_type": "code",
   "execution_count": 39,
   "metadata": {},
   "outputs": [
    {
     "data": {
      "text/plain": [
       "{'body': 'No one will know how the rover is doing until it speaks. But the team notes there’s reason to be optimistic: They’ve performed several studies on the state of its batteries before the storm, and temperatures at its location. Because the batteries were in relatively good health before the storm, there’s not likely to be too much degradation. And because dust storms tend to warm the environment -- and the 2018 storm happened as Opportunity’s location on Mars entered summer -- the rover should have stayed warm enough to survive.',\n",
       " 'title': \"Six Things About Opportunity's Recovery Efforts\"}"
      ]
     },
     "execution_count": 39,
     "metadata": {},
     "output_type": "execute_result"
    }
   ],
   "source": [
    "url= \"https://mars.nasa.gov/api/v1/news_items/?page=0&per_page=40&order=publish_date+desc%2Ccreated_at+desc&search=&category=19%2C165%2C184%2C204&blank_scope=Latest\"\n",
    "news = requests.get(url)\n",
    "news = news.json()\n",
    "most_recent = news.get('items')[0]\n",
    "most_recent_b = most_recent['body']\n",
    "most_recent_t =most_recent['title']\n",
    "\n",
    "soup = BeautifulSoup(most_recent_b, 'html.parser')\n",
    "ps = soup.find_all('p')\n",
    "most_recent_body = ps[1].get_text()\n",
    "\n",
    "{\"title\": most_recent_t, \"body\": most_recent_body}\n"
   ]
  },
  {
   "cell_type": "code",
   "execution_count": 35,
   "metadata": {},
   "outputs": [
    {
     "data": {
      "text/plain": [
       "'No one will know how the rover is doing until it speaks. But the team notes there’s reason to be optimistic: They’ve performed several studies on the state of its batteries before the storm, and temperatures at its location. Because the batteries were in relatively good health before the storm, there’s not likely to be too much degradation. And because dust storms tend to warm the environment -- and the 2018 storm happened as Opportunity’s location on Mars entered summer -- the rover should have stayed warm enough to survive.'"
      ]
     },
     "execution_count": 35,
     "metadata": {},
     "output_type": "execute_result"
    }
   ],
   "source": [
    "soup = BeautifulSoup(most_recent_b, 'html.parser')\n",
    "ps = soup.find_all('p')\n",
    "ps[1].get_text()"
   ]
  },
  {
   "cell_type": "markdown",
   "metadata": {},
   "source": [
    "### mars image"
   ]
  },
  {
   "cell_type": "code",
   "execution_count": 43,
   "metadata": {},
   "outputs": [
    {
     "data": {
      "text/plain": [
       "'https://www.jpl.nasa.gov/spaceimages/images/mediumsize/PIA18249_ip.jpg'"
      ]
     },
     "execution_count": 43,
     "metadata": {},
     "output_type": "execute_result"
    }
   ],
   "source": [
    "#soup to find image url\n",
    "img_url = \"https://www.jpl.nasa.gov/spaceimages/?search=&category=Mars\"\n",
    "image_pg = requests.get(img_url)\n",
    "soup = BeautifulSoup(image_pg.text, \"html.parser\")\n",
    "img_link = soup.find(\"a\", {\"class\":\"button fancybox\"}).attrs.get('data-fancybox-href')\n",
    "# feature_image = img_url + img_link\n",
    "feature_image = f\"https://www.jpl.nasa.gov{img_link}\"\n",
    "feature_image"
   ]
  },
  {
   "cell_type": "markdown",
   "metadata": {},
   "source": [
    "### mars weather twitter"
   ]
  },
  {
   "cell_type": "code",
   "execution_count": 5,
   "metadata": {},
   "outputs": [],
   "source": [
    "from config import *\n",
    "\n",
    "auth = tweepy.OAuthHandler(consumer_key, consumer_secret)\n",
    "auth.set_access_token(app_key, app_secret)\n",
    "api = tweepy.API(auth)"
   ]
  },
  {
   "cell_type": "code",
   "execution_count": 6,
   "metadata": {},
   "outputs": [],
   "source": [
    "#pull latest 10 tweets, convert to json, read 1st tweet\n",
    "mars_tweets = []\n",
    "\n",
    "for status in tweepy.Cursor(api.user_timeline, id=\"@MarsWxReport\").items(10):\n",
    "    mars_tweets.append(status)\n",
    "\n",
    "mars_weather = mars_tweets[0]._json\n"
   ]
  },
  {
   "cell_type": "code",
   "execution_count": 26,
   "metadata": {},
   "outputs": [
    {
     "data": {
      "text/plain": [
       "{'date': 'Sun Aug 12 08:59:51 +0000 2018',\n",
       " 'tweet': 'RT @rtphokie: A view of this morning’s launch of the Parker #SolarProbe launch from about 3 miles away \\nhttps://t.co/ulKl6gldeR'}"
      ]
     },
     "execution_count": 26,
     "metadata": {},
     "output_type": "execute_result"
    }
   ],
   "source": [
    "#pull text/status update of the latest tweet\n",
    "tweet_text = mars_weather['text']\n",
    "\n",
    "#date/time of tweet\n",
    "date = mars_weather['created_at']\n",
    "tweet_date = time.strftime('%Y-%m-%d %H:%M:%S', time.strptime(date,'%a %b %d %H:%M:%S +0000 %Y'))\n",
    "\n",
    "# print(f\"On {tweet_date} the weather on mars was {tweet_text}\")\n",
    "\n",
    "tweet = {\"date\": date, \"tweet\":tweet_text }\n",
    "tweet"
   ]
  },
  {
   "cell_type": "markdown",
   "metadata": {},
   "source": [
    "### Mars Facts"
   ]
  },
  {
   "cell_type": "code",
   "execution_count": 42,
   "metadata": {},
   "outputs": [
    {
     "data": {
      "text/html": [
       "<div>\n",
       "<style>\n",
       "    .dataframe thead tr:only-child th {\n",
       "        text-align: right;\n",
       "    }\n",
       "\n",
       "    .dataframe thead th {\n",
       "        text-align: left;\n",
       "    }\n",
       "\n",
       "    .dataframe tbody tr th {\n",
       "        vertical-align: top;\n",
       "    }\n",
       "</style>\n",
       "<table border=\"1\" class=\"dataframe\">\n",
       "  <thead>\n",
       "    <tr style=\"text-align: right;\">\n",
       "      <th></th>\n",
       "      <th>Description</th>\n",
       "      <th>Value</th>\n",
       "    </tr>\n",
       "  </thead>\n",
       "  <tbody>\n",
       "    <tr>\n",
       "      <th>0</th>\n",
       "      <td>Equatorial Diameter:</td>\n",
       "      <td>6,792 km</td>\n",
       "    </tr>\n",
       "    <tr>\n",
       "      <th>1</th>\n",
       "      <td>Polar Diameter:</td>\n",
       "      <td>6,752 km</td>\n",
       "    </tr>\n",
       "    <tr>\n",
       "      <th>2</th>\n",
       "      <td>Mass:</td>\n",
       "      <td>6.42 x 10^23 kg (10.7% Earth)</td>\n",
       "    </tr>\n",
       "    <tr>\n",
       "      <th>3</th>\n",
       "      <td>Moons:</td>\n",
       "      <td>2 (Phobos &amp; Deimos)</td>\n",
       "    </tr>\n",
       "    <tr>\n",
       "      <th>4</th>\n",
       "      <td>Orbit Distance:</td>\n",
       "      <td>227,943,824 km (1.52 AU)</td>\n",
       "    </tr>\n",
       "    <tr>\n",
       "      <th>5</th>\n",
       "      <td>Orbit Period:</td>\n",
       "      <td>687 days (1.9 years)</td>\n",
       "    </tr>\n",
       "    <tr>\n",
       "      <th>6</th>\n",
       "      <td>Surface Temperature:</td>\n",
       "      <td>-153 to 20 °C</td>\n",
       "    </tr>\n",
       "    <tr>\n",
       "      <th>7</th>\n",
       "      <td>First Record:</td>\n",
       "      <td>2nd millennium BC</td>\n",
       "    </tr>\n",
       "    <tr>\n",
       "      <th>8</th>\n",
       "      <td>Recorded By:</td>\n",
       "      <td>Egyptian astronomers</td>\n",
       "    </tr>\n",
       "  </tbody>\n",
       "</table>\n",
       "</div>"
      ],
      "text/plain": [
       "            Description                          Value\n",
       "0  Equatorial Diameter:                       6,792 km\n",
       "1       Polar Diameter:                       6,752 km\n",
       "2                 Mass:  6.42 x 10^23 kg (10.7% Earth)\n",
       "3                Moons:            2 (Phobos & Deimos)\n",
       "4       Orbit Distance:       227,943,824 km (1.52 AU)\n",
       "5         Orbit Period:           687 days (1.9 years)\n",
       "6  Surface Temperature:                  -153 to 20 °C\n",
       "7         First Record:              2nd millennium BC\n",
       "8          Recorded By:           Egyptian astronomers"
      ]
     },
     "execution_count": 42,
     "metadata": {},
     "output_type": "execute_result"
    }
   ],
   "source": [
    "mars_fact_url = \"https://space-facts.com/mars/\"\n",
    "\n",
    "#read html table through pandas\n",
    "mars_facts = pd.read_html(mars_fact_url)\n",
    "mars_facts_df=pd.DataFrame(mars_facts[0])\n",
    "\n",
    "#rename columns\n",
    "mars_facts_df.columns=[\"Description\", \"Value\"]\n",
    "mars_facts_df = mars_facts_df.set_index(\"Description\").reset_index()\n",
    "mars_facts_df"
   ]
  },
  {
   "cell_type": "code",
   "execution_count": 10,
   "metadata": {},
   "outputs": [],
   "source": [
    "#convert table to HTML string for web\n",
    "import numpy as np\n",
    "mars_facts_df.to_html('mars_table.html')\n"
   ]
  },
  {
   "cell_type": "markdown",
   "metadata": {},
   "source": [
    "### mars hemisphere images"
   ]
  },
  {
   "cell_type": "code",
   "execution_count": 11,
   "metadata": {},
   "outputs": [
    {
     "data": {
      "text/plain": [
       "[{'img_url': 'http://astropedia.astrogeology.usgs.gov/download/Mars/Viking/cerberus_enhanced.tif/full.jpg',\n",
       "  'title': 'Cerberus Hemisphere '},\n",
       " {'img_url': 'http://astropedia.astrogeology.usgs.gov/download/Mars/Viking/schiaparelli_enhanced.tif/full.jpg',\n",
       "  'title': 'Schiaparelli Hemisphere '},\n",
       " {'img_url': 'http://astropedia.astrogeology.usgs.gov/download/Mars/Viking/syrtis_major_enhanced.tif/full.jpg',\n",
       "  'title': 'Syrtis Major Hemisphere '},\n",
       " {'img_url': 'http://astropedia.astrogeology.usgs.gov/download/Mars/Viking/valles_marineris_enhanced.tif/full.jpg',\n",
       "  'title': 'Valles Marineris Hemisphere '}]"
      ]
     },
     "execution_count": 11,
     "metadata": {},
     "output_type": "execute_result"
    }
   ],
   "source": [
    "#pull high res images from astrology site\n",
    "hemisphere_url = \"https://astrogeology.usgs.gov/search/results?q=hemisphere+enhanced&k1=target&v1=Mars\"\n",
    "base_hems_url= \"https://astrogeology.usgs.gov\"\n",
    "hems = requests.get(hemisphere_url)\n",
    "hems_soup = BeautifulSoup(hems.text, \"html.parser\")\n",
    "\n",
    "hemispheres = hems_soup.find_all(\"a\", {\"class\": \"product-item\"})\n",
    "\n",
    "#empty list to hold image name/url\n",
    "mars_hemispheres=[]\n",
    "\n",
    "for hemi in hemispheres:\n",
    "    img_title = hemi.find(\"h3\").get_text().replace(\"Enhanced\", \"\")#remove enhanced text from image title\n",
    "        #remove enhanced text from image title\n",
    "        # create full image url\n",
    "    img_link = base_hems_url + hemi.attrs.get('href') \n",
    "        # access the downloads page for full high res image\n",
    "    high_res_soup = BeautifulSoup(requests.get(img_link).text, \"html.parser\")\n",
    "    download = high_res_soup.find(\"div\", {\"class\":\"downloads\"})\n",
    "    img_url = download.find('a')['href']\n",
    "    mars_hemispheres.append({\"title\": img_title, \"img_url\": img_url})\n",
    "\n",
    "mars_hemispheres  \n",
    "    "
   ]
  }
 ],
 "metadata": {
  "kernelspec": {
   "display_name": "Python 3",
   "language": "python",
   "name": "python3"
  },
  "language_info": {
   "codemirror_mode": {
    "name": "ipython",
    "version": 3
   },
   "file_extension": ".py",
   "mimetype": "text/x-python",
   "name": "python",
   "nbconvert_exporter": "python",
   "pygments_lexer": "ipython3",
   "version": "3.6.4"
  }
 },
 "nbformat": 4,
 "nbformat_minor": 2
}
